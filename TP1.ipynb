{
 "cells": [
  {
   "cell_type": "markdown",
   "metadata": {},
   "source": [
    "# INF6853H  TP1\n",
    "\n",
    "\n",
    "### Yan Xu 1754774\n"
   ]
  },
  {
   "cell_type": "markdown",
   "metadata": {},
   "source": [
    "In this TP, we construct an MLP (Multilayer perceptron) model on the MNIST digits dataset. The MNIST database of handwritten digits, has a training set of 60,000 examples, and a test set of 10,000 examples. Especially, in this TP, we add extra connections between non-consecutive layers, like ResNet, and investigate whether such skip connections can improve the performance of the MLP model."
   ]
  },
  {
   "cell_type": "code",
   "execution_count": 55,
   "metadata": {},
   "outputs": [
    {
     "name": "stdout",
     "output_type": "stream",
     "text": [
      "Dataset downloaded.\n"
     ]
    }
   ],
   "source": [
    "# Firstly, download the MNIST dataset.\n",
    "\n",
    "from keras.datasets import mnist\n",
    "(X_train, y_train), (X_test, y_test) = mnist.load_data()\n",
    "\n",
    "print(\"Dataset downloaded.\")"
   ]
  },
  {
   "cell_type": "code",
   "execution_count": 51,
   "metadata": {},
   "outputs": [
    {
     "name": "stdout",
     "output_type": "stream",
     "text": [
      "(60000, 28, 28)\n",
      "Training set size: 60000\n",
      "Image size: 28 x 28\n"
     ]
    }
   ],
   "source": [
    "# Explore the dataset\n",
    "\n",
    "print(X_train.shape)\n",
    "\n",
    "print(\"Training set size:\", X_train.shape[0])\n",
    "\n",
    "image1 = X_train[0]\n",
    "height = len(image1)\n",
    "width = len(image1[0])\n",
    "\n",
    "print(\"Image size:\", width, \"x\", height)"
   ]
  },
  {
   "cell_type": "code",
   "execution_count": 79,
   "metadata": {},
   "outputs": [
    {
     "name": "stdout",
     "output_type": "stream",
     "text": [
      "[0 0 0 0 0 1 0 0 0 0]\n",
      "[0 0 0 0 0 1 0 0 0 0]\n"
     ]
    },
    {
     "data": {
      "image/png": "[encoded data removed]",
      "text/plain": [
       "<matplotlib.figure.Figure at 0x26bd46edcf8>"
      ]
     },
     "metadata": {},
     "output_type": "display_data"
    }
   ],
   "source": [
    "import matplotlib.pyplot as plt\n",
    "\n",
    "%matplotlib inline\n",
    "\n",
    "plt.imshow(X_train[0], cmap='gray')\n",
    "print(y_train[0])"
   ]
  },
  {
   "cell_type": "markdown",
   "metadata": {},
   "source": [
    "### Model 1: Simple MLP model use ReLU"
   ]
  },
  {
   "cell_type": "code",
   "execution_count": 63,
   "metadata": {},
   "outputs": [],
   "source": [
    "# Build our first simply MLP model\n",
    "\n",
    "from keras.models import Sequential  \n",
    "from keras.layers.core import Dense, Activation, Flatten, Dropout\n",
    "from keras.layers.normalization import BatchNormalization\n",
    "\n",
    "model = Sequential()\n",
    "model.add(Flatten(input_shape=(28, 28)))\n",
    "model.add(BatchNormalization())\n",
    "model.add(Dense(100, activation='relu'))\n",
    "model.add(Dense(100, activation='relu'))\n",
    "model.add(Dense(100, activation='relu'))\n",
    "model.add(Dense(10, activation='softmax'))\n",
    "\n",
    "model.compile('sgd', 'categorical_crossentropy', ['accuracy'])"
   ]
  },
  {
   "cell_type": "code",
   "execution_count": 75,
   "metadata": {
    "scrolled": true
   },
   "outputs": [
    {
     "name": "stdout",
     "output_type": "stream",
     "text": [
      "Train on 48000 samples, validate on 12000 samples\n",
      "Epoch 1/20\n",
      "48000/48000 [==============================] - 4s - loss: 0.0460 - acc: 0.9848 - val_loss: 0.1709 - val_acc: 0.9646\n",
      "Epoch 2/20\n",
      "48000/48000 [==============================] - 4s - loss: 0.0405 - acc: 0.9872 - val_loss: 0.1666 - val_acc: 0.9654\n",
      "Epoch 3/20\n",
      "48000/48000 [==============================] - 4s - loss: 0.0397 - acc: 0.9871 - val_loss: 0.1598 - val_acc: 0.9651\n",
      "Epoch 4/20\n",
      "48000/48000 [==============================] - 4s - loss: 0.0366 - acc: 0.9871 - val_loss: 0.1696 - val_acc: 0.9653\n",
      "Epoch 5/20\n",
      "48000/48000 [==============================] - 4s - loss: 0.0345 - acc: 0.9887 - val_loss: 0.1620 - val_acc: 0.9664\n",
      "Epoch 6/20\n",
      "48000/48000 [==============================] - 4s - loss: 0.0323 - acc: 0.9894 - val_loss: 0.1684 - val_acc: 0.9661\n",
      "Epoch 7/20\n",
      "48000/48000 [==============================] - 4s - loss: 0.0311 - acc: 0.9892 - val_loss: 0.1603 - val_acc: 0.9677\n",
      "Epoch 8/20\n",
      "48000/48000 [==============================] - 4s - loss: 0.0296 - acc: 0.9905 - val_loss: 0.1703 - val_acc: 0.9676\n",
      "Epoch 9/20\n",
      "48000/48000 [==============================] - 4s - loss: 0.0278 - acc: 0.9906 - val_loss: 0.1696 - val_acc: 0.9663\n",
      "Epoch 10/20\n",
      "48000/48000 [==============================] - 4s - loss: 0.0275 - acc: 0.9910 - val_loss: 0.1753 - val_acc: 0.9674\n",
      "Epoch 11/20\n",
      "48000/48000 [==============================] - 4s - loss: 0.0249 - acc: 0.9920 - val_loss: 0.1611 - val_acc: 0.9682\n",
      "Epoch 12/20\n",
      "48000/48000 [==============================] - 4s - loss: 0.0249 - acc: 0.9922 - val_loss: 0.1600 - val_acc: 0.9689\n",
      "Epoch 13/20\n",
      "48000/48000 [==============================] - 4s - loss: 0.0244 - acc: 0.9922 - val_loss: 0.1729 - val_acc: 0.9685\n",
      "Epoch 14/20\n",
      "48000/48000 [==============================] - 4s - loss: 0.0207 - acc: 0.9935 - val_loss: 0.1501 - val_acc: 0.9706\n",
      "Epoch 15/20\n",
      "48000/48000 [==============================] - 5s - loss: 0.0203 - acc: 0.9932 - val_loss: 0.1680 - val_acc: 0.9677\n",
      "Epoch 16/20\n",
      "48000/48000 [==============================] - 5s - loss: 0.0193 - acc: 0.9938 - val_loss: 0.1629 - val_acc: 0.9687\n",
      "Epoch 17/20\n",
      "48000/48000 [==============================] - 5s - loss: 0.0197 - acc: 0.9934 - val_loss: 0.1688 - val_acc: 0.9691\n",
      "Epoch 18/20\n",
      "48000/48000 [==============================] - 5s - loss: 0.0197 - acc: 0.9934 - val_loss: 0.1932 - val_acc: 0.9661\n",
      "Epoch 19/20\n",
      "48000/48000 [==============================] - 4s - loss: 0.0185 - acc: 0.9941 - val_loss: 0.1769 - val_acc: 0.9689\n",
      "Epoch 20/20\n",
      "48000/48000 [==============================] - 4s - loss: 0.0170 - acc: 0.9945 - val_loss: 0.1692 - val_acc: 0.9694\n"
     ]
    }
   ],
   "source": [
    "# Train the model\n",
    "\n",
    "from sklearn.preprocessing import LabelBinarizer\n",
    "label_binarizer = LabelBinarizer()\n",
    "\n",
    "y_train = label_binarizer.fit_transform(y_train)\n",
    "\n",
    "history = model.fit(X_train, y_train, epochs=20, validation_split=0.2)"
   ]
  },
  {
   "cell_type": "code",
   "execution_count": 76,
   "metadata": {},
   "outputs": [
    {
     "data": {
      "image/png": "[encoded data removed]",
      "text/plain": [
       "<matplotlib.figure.Figure at 0x26bd46f82e8>"
      ]
     },
     "metadata": {},
     "output_type": "display_data"
    }
   ],
   "source": [
    "# summarize history for loss\n",
    "plt.plot(history.history['loss'])\n",
    "plt.plot(history.history['val_loss'])\n",
    "plt.title('model loss')\n",
    "plt.ylabel('loss')\n",
    "plt.xlabel('epoch')\n",
    "plt.legend(['train', 'validation'], loc='upper left')\n",
    "plt.show()"
   ]
  },
  {
   "cell_type": "markdown",
   "metadata": {},
   "source": [
    "From the figure above, we can see that the loss on train set continuously decrease. However, the loss on validation set increase after decrease, means that the model is overfit. To overcome the overfit, we will stop the training after epoch 3.\n",
    "\n",
    "(We can also add dropout between layers, which is not in the scope of this TP)"
   ]
  },
  {
   "cell_type": "code",
   "execution_count": 99,
   "metadata": {},
   "outputs": [
    {
     "name": "stdout",
     "output_type": "stream",
     "text": [
      "Train on 48000 samples, validate on 12000 samples\n",
      "Epoch 1/3\n",
      "48000/48000 [==============================] - 4s - loss: 0.0169 - acc: 0.9948 - val_loss: 0.1245 - val_acc: 0.9796\n",
      "Epoch 2/3\n",
      "48000/48000 [==============================] - 4s - loss: 0.0154 - acc: 0.9950 - val_loss: 0.1170 - val_acc: 0.9793\n",
      "Epoch 3/3\n",
      "48000/48000 [==============================] - 4s - loss: 0.0152 - acc: 0.9951 - val_loss: 0.1217 - val_acc: 0.9788\n"
     ]
    },
    {
     "data": {
      "text/plain": [
       "<keras.callbacks.History at 0x26bdc07ad30>"
      ]
     },
     "execution_count": 99,
     "metadata": {},
     "output_type": "execute_result"
    }
   ],
   "source": [
    "model.fit(X_train, y_train, epochs=3, validation_split=0.2)"
   ]
  },
  {
   "cell_type": "code",
   "execution_count": 100,
   "metadata": {},
   "outputs": [
    {
     "name": "stdout",
     "output_type": "stream",
     "text": [
      "The prediction accuracy of the model is: 0.9708\n"
     ]
    }
   ],
   "source": [
    "import numpy as np\n",
    "\n",
    "\n",
    "prediction = model.predict(X_test)\n",
    "y_predict = np.argmax(prediction, axis=1)\n",
    "\n",
    "print(\"The prediction accuracy of the model is:\", np.mean(y_test == y_predict))"
   ]
  },
  {
   "cell_type": "markdown",
   "metadata": {},
   "source": [
    "### Model 2: Simple MLP model use sigmoid"
   ]
  },
  {
   "cell_type": "code",
   "execution_count": 115,
   "metadata": {},
   "outputs": [
    {
     "name": "stdout",
     "output_type": "stream",
     "text": [
      "Train on 48000 samples, validate on 12000 samples\n",
      "Epoch 1/100\n",
      "48000/48000 [==============================] - 5s - loss: 2.2788 - acc: 0.1705 - val_loss: 2.2454 - val_acc: 0.3951\n",
      "Epoch 2/100\n",
      "48000/48000 [==============================] - 5s - loss: 2.1882 - acc: 0.3636 - val_loss: 2.0974 - val_acc: 0.3945\n",
      "Epoch 3/100\n",
      "48000/48000 [==============================] - 5s - loss: 1.8975 - acc: 0.4915 - val_loss: 1.6210 - val_acc: 0.5905\n",
      "Epoch 4/100\n",
      "48000/48000 [==============================] - 5s - loss: 1.3785 - acc: 0.6235 - val_loss: 1.1249 - val_acc: 0.6992\n",
      "Epoch 5/100\n",
      "48000/48000 [==============================] - 5s - loss: 1.0101 - acc: 0.7266 - val_loss: 0.8332 - val_acc: 0.7982\n",
      "Epoch 6/100\n",
      "48000/48000 [==============================] - 5s - loss: 0.7932 - acc: 0.7845 - val_loss: 0.6553 - val_acc: 0.8363\n",
      "Epoch 7/100\n",
      "48000/48000 [==============================] - 5s - loss: 0.6537 - acc: 0.8204 - val_loss: 0.5444 - val_acc: 0.8598\n",
      "Epoch 8/100\n",
      "48000/48000 [==============================] - 5s - loss: 0.5716 - acc: 0.8395 - val_loss: 0.4790 - val_acc: 0.8734\n",
      "Epoch 9/100\n",
      "48000/48000 [==============================] - 5s - loss: 0.5187 - acc: 0.8522 - val_loss: 0.4365 - val_acc: 0.8826\n",
      "Epoch 10/100\n",
      "48000/48000 [==============================] - 6s - loss: 0.4787 - acc: 0.8626 - val_loss: 0.4031 - val_acc: 0.8874\n",
      "Epoch 11/100\n",
      "48000/48000 [==============================] - 6s - loss: 0.4502 - acc: 0.8709 - val_loss: 0.3772 - val_acc: 0.8928\n",
      "Epoch 12/100\n",
      "48000/48000 [==============================] - 6s - loss: 0.4227 - acc: 0.8793 - val_loss: 0.3563 - val_acc: 0.8992\n",
      "Epoch 13/100\n",
      "48000/48000 [==============================] - 5s - loss: 0.4036 - acc: 0.8831 - val_loss: 0.3393 - val_acc: 0.9052\n",
      "Epoch 14/100\n",
      "48000/48000 [==============================] - 5s - loss: 0.3832 - acc: 0.8887 - val_loss: 0.3193 - val_acc: 0.9083\n",
      "Epoch 15/100\n",
      "48000/48000 [==============================] - 5s - loss: 0.3672 - acc: 0.8934 - val_loss: 0.3051 - val_acc: 0.9133\n",
      "Epoch 16/100\n",
      "48000/48000 [==============================] - 5s - loss: 0.3523 - acc: 0.8974 - val_loss: 0.2943 - val_acc: 0.9159\n",
      "Epoch 17/100\n",
      "48000/48000 [==============================] - 5s - loss: 0.3379 - acc: 0.9016 - val_loss: 0.2840 - val_acc: 0.9175\n",
      "Epoch 18/100\n",
      "48000/48000 [==============================] - 5s - loss: 0.3249 - acc: 0.9044 - val_loss: 0.2735 - val_acc: 0.9219\n",
      "Epoch 19/100\n",
      "48000/48000 [==============================] - 6s - loss: 0.3138 - acc: 0.9081 - val_loss: 0.2673 - val_acc: 0.9233\n",
      "Epoch 20/100\n",
      "48000/48000 [==============================] - 5s - loss: 0.3060 - acc: 0.9111 - val_loss: 0.2567 - val_acc: 0.9265\n",
      "Epoch 21/100\n",
      "48000/48000 [==============================] - 5s - loss: 0.2973 - acc: 0.9141 - val_loss: 0.2490 - val_acc: 0.9297\n",
      "Epoch 22/100\n",
      "48000/48000 [==============================] - 5s - loss: 0.2866 - acc: 0.9180 - val_loss: 0.2413 - val_acc: 0.9307\n",
      "Epoch 23/100\n",
      "48000/48000 [==============================] - 5s - loss: 0.2797 - acc: 0.9183 - val_loss: 0.2381 - val_acc: 0.9324\n",
      "Epoch 24/100\n",
      "48000/48000 [==============================] - 5s - loss: 0.2722 - acc: 0.9208 - val_loss: 0.2330 - val_acc: 0.9336\n",
      "Epoch 25/100\n",
      "48000/48000 [==============================] - 5s - loss: 0.2645 - acc: 0.9235 - val_loss: 0.2291 - val_acc: 0.9338\n",
      "Epoch 26/100\n",
      "48000/48000 [==============================] - 5s - loss: 0.2578 - acc: 0.9237 - val_loss: 0.2223 - val_acc: 0.9367\n",
      "Epoch 27/100\n",
      "48000/48000 [==============================] - 5s - loss: 0.2513 - acc: 0.9265 - val_loss: 0.2182 - val_acc: 0.9389\n",
      "Epoch 28/100\n",
      "48000/48000 [==============================] - 5s - loss: 0.2435 - acc: 0.9292 - val_loss: 0.2138 - val_acc: 0.9393\n",
      "Epoch 29/100\n",
      "48000/48000 [==============================] - 5s - loss: 0.2405 - acc: 0.9299 - val_loss: 0.2086 - val_acc: 0.9404\n",
      "Epoch 30/100\n",
      "48000/48000 [==============================] - 5s - loss: 0.2313 - acc: 0.9321 - val_loss: 0.2040 - val_acc: 0.9426\n",
      "Epoch 31/100\n",
      "48000/48000 [==============================] - 5s - loss: 0.2281 - acc: 0.9338 - val_loss: 0.2021 - val_acc: 0.9425\n",
      "Epoch 32/100\n",
      "48000/48000 [==============================] - 5s - loss: 0.2214 - acc: 0.9354 - val_loss: 0.1988 - val_acc: 0.9434\n",
      "Epoch 33/100\n",
      "48000/48000 [==============================] - 5s - loss: 0.2166 - acc: 0.9366 - val_loss: 0.1941 - val_acc: 0.9439\n",
      "Epoch 34/100\n",
      "48000/48000 [==============================] - 5s - loss: 0.2106 - acc: 0.9393 - val_loss: 0.1914 - val_acc: 0.9451\n",
      "Epoch 35/100\n",
      "48000/48000 [==============================] - 5s - loss: 0.2056 - acc: 0.9404 - val_loss: 0.1909 - val_acc: 0.9453\n",
      "Epoch 36/100\n",
      "48000/48000 [==============================] - 5s - loss: 0.2017 - acc: 0.9426 - val_loss: 0.1834 - val_acc: 0.9465\n",
      "Epoch 37/100\n",
      "48000/48000 [==============================] - 5s - loss: 0.1952 - acc: 0.9436 - val_loss: 0.1832 - val_acc: 0.9467\n",
      "Epoch 38/100\n",
      "48000/48000 [==============================] - 5s - loss: 0.1925 - acc: 0.9449 - val_loss: 0.1814 - val_acc: 0.9486\n",
      "Epoch 39/100\n",
      "48000/48000 [==============================] - 5s - loss: 0.1893 - acc: 0.9457 - val_loss: 0.1749 - val_acc: 0.9493\n",
      "Epoch 40/100\n",
      "48000/48000 [==============================] - 5s - loss: 0.1830 - acc: 0.9476 - val_loss: 0.1753 - val_acc: 0.9489\n",
      "Epoch 41/100\n",
      "48000/48000 [==============================] - 5s - loss: 0.1789 - acc: 0.9483 - val_loss: 0.1686 - val_acc: 0.9512\n",
      "Epoch 42/100\n",
      "48000/48000 [==============================] - 5s - loss: 0.1767 - acc: 0.9489 - val_loss: 0.1697 - val_acc: 0.9507\n",
      "Epoch 43/100\n",
      "48000/48000 [==============================] - 5s - loss: 0.1701 - acc: 0.9512 - val_loss: 0.1673 - val_acc: 0.9517\n",
      "Epoch 44/100\n",
      "48000/48000 [==============================] - 5s - loss: 0.1654 - acc: 0.9516 - val_loss: 0.1641 - val_acc: 0.9527\n",
      "Epoch 45/100\n",
      "48000/48000 [==============================] - 5s - loss: 0.1645 - acc: 0.9515 - val_loss: 0.1661 - val_acc: 0.9527\n",
      "Epoch 46/100\n",
      "48000/48000 [==============================] - 5s - loss: 0.1585 - acc: 0.9538 - val_loss: 0.1584 - val_acc: 0.9546\n",
      "Epoch 47/100\n",
      "48000/48000 [==============================] - 5s - loss: 0.1558 - acc: 0.9551 - val_loss: 0.1587 - val_acc: 0.9543\n",
      "Epoch 48/100\n",
      "48000/48000 [==============================] - 5s - loss: 0.1512 - acc: 0.9563 - val_loss: 0.1567 - val_acc: 0.9551\n",
      "Epoch 49/100\n",
      "48000/48000 [==============================] - 5s - loss: 0.1486 - acc: 0.9577 - val_loss: 0.1562 - val_acc: 0.9552\n",
      "Epoch 50/100\n",
      "48000/48000 [==============================] - 5s - loss: 0.1455 - acc: 0.9583 - val_loss: 0.1536 - val_acc: 0.9563\n",
      "Epoch 51/100\n",
      "48000/48000 [==============================] - 5s - loss: 0.1416 - acc: 0.9590 - val_loss: 0.1525 - val_acc: 0.9563\n",
      "Epoch 52/100\n",
      "48000/48000 [==============================] - 5s - loss: 0.1410 - acc: 0.9593 - val_loss: 0.1508 - val_acc: 0.9575\n",
      "Epoch 53/100\n",
      "48000/48000 [==============================] - 5s - loss: 0.1372 - acc: 0.9603 - val_loss: 0.1496 - val_acc: 0.9577\n",
      "Epoch 54/100\n",
      "48000/48000 [==============================] - 5s - loss: 0.1339 - acc: 0.9608 - val_loss: 0.1472 - val_acc: 0.9579\n",
      "Epoch 55/100\n",
      "48000/48000 [==============================] - 5s - loss: 0.1313 - acc: 0.9626 - val_loss: 0.1472 - val_acc: 0.9584\n",
      "Epoch 56/100\n",
      "48000/48000 [==============================] - 5s - loss: 0.1277 - acc: 0.9636 - val_loss: 0.1459 - val_acc: 0.9592\n",
      "Epoch 57/100\n",
      "48000/48000 [==============================] - 5s - loss: 0.1272 - acc: 0.9633 - val_loss: 0.1443 - val_acc: 0.9597\n",
      "Epoch 58/100\n",
      "48000/48000 [==============================] - 5s - loss: 0.1217 - acc: 0.9659 - val_loss: 0.1403 - val_acc: 0.9600\n",
      "Epoch 59/100\n",
      "48000/48000 [==============================] - 5s - loss: 0.1201 - acc: 0.9652 - val_loss: 0.1412 - val_acc: 0.9593\n",
      "Epoch 60/100\n",
      "48000/48000 [==============================] - 5s - loss: 0.1196 - acc: 0.9646 - val_loss: 0.1428 - val_acc: 0.9593\n",
      "Epoch 61/100\n",
      "48000/48000 [==============================] - 5s - loss: 0.1174 - acc: 0.9662 - val_loss: 0.1359 - val_acc: 0.9605\n",
      "Epoch 62/100\n",
      "48000/48000 [==============================] - 5s - loss: 0.1136 - acc: 0.9675 - val_loss: 0.1362 - val_acc: 0.9605\n",
      "Epoch 63/100\n",
      "48000/48000 [==============================] - 5s - loss: 0.1116 - acc: 0.9677 - val_loss: 0.1409 - val_acc: 0.9592\n",
      "Epoch 64/100\n"
     ]
    },
    {
     "name": "stdout",
     "output_type": "stream",
     "text": [
      "48000/48000 [==============================] - 5s - loss: 0.1093 - acc: 0.9682 - val_loss: 0.1371 - val_acc: 0.9611\n",
      "Epoch 65/100\n",
      "48000/48000 [==============================] - 5s - loss: 0.1059 - acc: 0.9697 - val_loss: 0.1361 - val_acc: 0.9615\n",
      "Epoch 66/100\n",
      "48000/48000 [==============================] - 5s - loss: 0.1066 - acc: 0.9692 - val_loss: 0.1321 - val_acc: 0.9627\n",
      "Epoch 67/100\n",
      "48000/48000 [==============================] - 5s - loss: 0.1032 - acc: 0.9706 - val_loss: 0.1350 - val_acc: 0.9617\n",
      "Epoch 68/100\n",
      "48000/48000 [==============================] - 5s - loss: 0.0994 - acc: 0.9717 - val_loss: 0.1322 - val_acc: 0.9621\n",
      "Epoch 69/100\n",
      "48000/48000 [==============================] - 5s - loss: 0.0990 - acc: 0.9721 - val_loss: 0.1296 - val_acc: 0.9629\n",
      "Epoch 70/100\n",
      "48000/48000 [==============================] - 5s - loss: 0.0981 - acc: 0.9725 - val_loss: 0.1313 - val_acc: 0.9624\n",
      "Epoch 71/100\n",
      "48000/48000 [==============================] - 5s - loss: 0.0944 - acc: 0.9733 - val_loss: 0.1301 - val_acc: 0.9624\n",
      "Epoch 72/100\n",
      "48000/48000 [==============================] - 5s - loss: 0.0932 - acc: 0.9733 - val_loss: 0.1287 - val_acc: 0.9628\n",
      "Epoch 73/100\n",
      "48000/48000 [==============================] - 5s - loss: 0.0910 - acc: 0.9741 - val_loss: 0.1282 - val_acc: 0.9633\n",
      "Epoch 74/100\n",
      "48000/48000 [==============================] - 5s - loss: 0.0898 - acc: 0.9749 - val_loss: 0.1340 - val_acc: 0.9623\n",
      "Epoch 75/100\n",
      "48000/48000 [==============================] - 5s - loss: 0.0892 - acc: 0.9744 - val_loss: 0.1276 - val_acc: 0.9641\n",
      "Epoch 76/100\n",
      "48000/48000 [==============================] - 5s - loss: 0.0883 - acc: 0.9752 - val_loss: 0.1248 - val_acc: 0.9641\n",
      "Epoch 77/100\n",
      "48000/48000 [==============================] - 5s - loss: 0.0873 - acc: 0.9755 - val_loss: 0.1245 - val_acc: 0.9653\n",
      "Epoch 78/100\n",
      "48000/48000 [==============================] - 5s - loss: 0.0841 - acc: 0.9760 - val_loss: 0.1259 - val_acc: 0.9643\n",
      "Epoch 79/100\n",
      "48000/48000 [==============================] - 5s - loss: 0.0831 - acc: 0.9762 - val_loss: 0.1274 - val_acc: 0.9643\n",
      "Epoch 80/100\n",
      "48000/48000 [==============================] - 5s - loss: 0.0833 - acc: 0.9757 - val_loss: 0.1226 - val_acc: 0.9657\n",
      "Epoch 81/100\n",
      "48000/48000 [==============================] - 5s - loss: 0.0807 - acc: 0.9773 - val_loss: 0.1287 - val_acc: 0.9636\n",
      "Epoch 82/100\n",
      "48000/48000 [==============================] - 5s - loss: 0.0804 - acc: 0.9772 - val_loss: 0.1251 - val_acc: 0.9639\n",
      "Epoch 83/100\n",
      "48000/48000 [==============================] - 5s - loss: 0.0778 - acc: 0.9775 - val_loss: 0.1242 - val_acc: 0.9639\n",
      "Epoch 84/100\n",
      "48000/48000 [==============================] - 5s - loss: 0.0749 - acc: 0.9790 - val_loss: 0.1258 - val_acc: 0.9653\n",
      "Epoch 85/100\n",
      "48000/48000 [==============================] - 5s - loss: 0.0773 - acc: 0.9776 - val_loss: 0.1213 - val_acc: 0.9663\n",
      "Epoch 86/100\n",
      "48000/48000 [==============================] - 5s - loss: 0.0729 - acc: 0.9788 - val_loss: 0.1230 - val_acc: 0.9655\n",
      "Epoch 87/100\n",
      "48000/48000 [==============================] - 5s - loss: 0.0727 - acc: 0.9790 - val_loss: 0.1243 - val_acc: 0.9653\n",
      "Epoch 88/100\n",
      "48000/48000 [==============================] - 5s - loss: 0.0714 - acc: 0.9789 - val_loss: 0.1288 - val_acc: 0.9647\n",
      "Epoch 89/100\n",
      "48000/48000 [==============================] - 5s - loss: 0.0713 - acc: 0.9790 - val_loss: 0.1239 - val_acc: 0.9649\n",
      "Epoch 90/100\n",
      "48000/48000 [==============================] - 5s - loss: 0.0677 - acc: 0.9799 - val_loss: 0.1261 - val_acc: 0.9653\n",
      "Epoch 91/100\n",
      "48000/48000 [==============================] - 5s - loss: 0.0694 - acc: 0.9801 - val_loss: 0.1199 - val_acc: 0.9664\n",
      "Epoch 92/100\n",
      "48000/48000 [==============================] - 5s - loss: 0.0675 - acc: 0.9802 - val_loss: 0.1254 - val_acc: 0.9656\n",
      "Epoch 93/100\n",
      "48000/48000 [==============================] - 5s - loss: 0.0651 - acc: 0.9815 - val_loss: 0.1211 - val_acc: 0.9655\n",
      "Epoch 94/100\n",
      "48000/48000 [==============================] - 5s - loss: 0.0653 - acc: 0.9813 - val_loss: 0.1229 - val_acc: 0.9658\n",
      "Epoch 95/100\n",
      "48000/48000 [==============================] - 5s - loss: 0.0639 - acc: 0.9823 - val_loss: 0.1239 - val_acc: 0.9664\n",
      "Epoch 96/100\n",
      "48000/48000 [==============================] - 5s - loss: 0.0643 - acc: 0.9815 - val_loss: 0.1218 - val_acc: 0.9659\n",
      "Epoch 97/100\n",
      "48000/48000 [==============================] - 5s - loss: 0.0624 - acc: 0.9817 - val_loss: 0.1178 - val_acc: 0.9660\n",
      "Epoch 98/100\n",
      "48000/48000 [==============================] - 5s - loss: 0.0610 - acc: 0.9828 - val_loss: 0.1253 - val_acc: 0.9654\n",
      "Epoch 99/100\n",
      "48000/48000 [==============================] - 5s - loss: 0.0608 - acc: 0.9823 - val_loss: 0.1183 - val_acc: 0.9669\n",
      "Epoch 100/100\n",
      "48000/48000 [==============================] - 5s - loss: 0.0568 - acc: 0.9845 - val_loss: 0.1212 - val_acc: 0.9665\n"
     ]
    }
   ],
   "source": [
    "model2 = Sequential()\n",
    "model2.add(Flatten(input_shape=(28, 28)))\n",
    "model2.add(BatchNormalization())\n",
    "model2.add(Dense(100, activation='sigmoid'))\n",
    "model2.add(Dense(100, activation='sigmoid'))\n",
    "model2.add(Dense(100, activation='sigmoid'))\n",
    "model2.add(Dense(10, activation='softmax'))\n",
    "\n",
    "model2.compile('sgd', 'categorical_crossentropy', ['accuracy'])\n",
    "history2 = model2.fit(X_train, y_train, epochs=100, validation_split=0.2)"
   ]
  },
  {
   "cell_type": "code",
   "execution_count": 116,
   "metadata": {},
   "outputs": [
    {
     "data": {
      "image/png": "[encoded data removed]",
      "text/plain": [
       "<matplotlib.figure.Figure at 0x26bd470c8d0>"
      ]
     },
     "metadata": {},
     "output_type": "display_data"
    }
   ],
   "source": [
    "# summarize history for loss\n",
    "plt.plot(history2.history['loss'])\n",
    "plt.plot(history2.history['val_loss'])\n",
    "plt.title('model loss')\n",
    "plt.ylabel('loss')\n",
    "plt.xlabel('epoch')\n",
    "plt.legend(['train', 'validation'], loc='upper left')\n",
    "plt.show()"
   ]
  },
  {
   "cell_type": "markdown",
   "metadata": {},
   "source": [
    "We see that with sigmoid, the model training take more time, 100 epoch is a reasonable training time as the validation error no longer decrease. \n",
    "\n",
    "We can also observe that the loss is higher than the model with \"ReLU\""
   ]
  },
  {
   "cell_type": "code",
   "execution_count": 117,
   "metadata": {},
   "outputs": [
    {
     "name": "stdout",
     "output_type": "stream",
     "text": [
      "The prediction accuracy of the model is: 0.966\n"
     ]
    }
   ],
   "source": [
    "prediction = model2.predict(X_test)\n",
    "y_predict = np.argmax(prediction, axis=1)\n",
    "\n",
    "print(\"The prediction accuracy of the model is:\", np.mean(y_test == y_predict))"
   ]
  },
  {
   "cell_type": "markdown",
   "metadata": {},
   "source": [
    "### Model 3: MLP with sigmoid skip connections"
   ]
  },
  {
   "cell_type": "code",
   "execution_count": 118,
   "metadata": {},
   "outputs": [
    {
     "name": "stdout",
     "output_type": "stream",
     "text": [
      "Train on 48000 samples, validate on 12000 samples\n",
      "Epoch 1/100\n",
      "48000/48000 [==============================] - 6s - loss: 0.9801 - acc: 0.7703 - val_loss: 0.5212 - val_acc: 0.8748\n",
      "Epoch 2/100\n",
      "48000/48000 [==============================] - 5s - loss: 0.4961 - acc: 0.8702 - val_loss: 0.3829 - val_acc: 0.8999\n",
      "Epoch 3/100\n",
      "48000/48000 [==============================] - 5s - loss: 0.4096 - acc: 0.8853 - val_loss: 0.3311 - val_acc: 0.9095\n",
      "Epoch 4/100\n",
      "48000/48000 [==============================] - 5s - loss: 0.3675 - acc: 0.8935 - val_loss: 0.3049 - val_acc: 0.9142\n",
      "Epoch 5/100\n",
      "48000/48000 [==============================] - 5s - loss: 0.3418 - acc: 0.9014 - val_loss: 0.2892 - val_acc: 0.9173\n",
      "Epoch 6/100\n",
      "48000/48000 [==============================] - 5s - loss: 0.3264 - acc: 0.9045 - val_loss: 0.2758 - val_acc: 0.9196\n",
      "Epoch 7/100\n",
      "48000/48000 [==============================] - 5s - loss: 0.3132 - acc: 0.9075 - val_loss: 0.2659 - val_acc: 0.9229\n",
      "Epoch 8/100\n",
      "48000/48000 [==============================] - 5s - loss: 0.2994 - acc: 0.9126 - val_loss: 0.2551 - val_acc: 0.9268\n",
      "Epoch 9/100\n",
      "48000/48000 [==============================] - 5s - loss: 0.2887 - acc: 0.9157 - val_loss: 0.2477 - val_acc: 0.9269\n",
      "Epoch 10/100\n",
      "48000/48000 [==============================] - 5s - loss: 0.2824 - acc: 0.9170 - val_loss: 0.2458 - val_acc: 0.9283\n",
      "Epoch 11/100\n",
      "48000/48000 [==============================] - 5s - loss: 0.2707 - acc: 0.9209 - val_loss: 0.2370 - val_acc: 0.9307\n",
      "Epoch 12/100\n",
      "48000/48000 [==============================] - 5s - loss: 0.2636 - acc: 0.9222 - val_loss: 0.2310 - val_acc: 0.9312\n",
      "Epoch 13/100\n",
      "48000/48000 [==============================] - 5s - loss: 0.2574 - acc: 0.9247 - val_loss: 0.2266 - val_acc: 0.9333\n",
      "Epoch 14/100\n",
      "48000/48000 [==============================] - 5s - loss: 0.2508 - acc: 0.9264 - val_loss: 0.2210 - val_acc: 0.9352\n",
      "Epoch 15/100\n",
      "48000/48000 [==============================] - 5s - loss: 0.2461 - acc: 0.9276 - val_loss: 0.2157 - val_acc: 0.9364\n",
      "Epoch 16/100\n",
      "48000/48000 [==============================] - 5s - loss: 0.2402 - acc: 0.9301 - val_loss: 0.2135 - val_acc: 0.9360\n",
      "Epoch 17/100\n",
      "48000/48000 [==============================] - 5s - loss: 0.2336 - acc: 0.9319 - val_loss: 0.2093 - val_acc: 0.9382\n",
      "Epoch 18/100\n",
      "48000/48000 [==============================] - 5s - loss: 0.2281 - acc: 0.9344 - val_loss: 0.2070 - val_acc: 0.9377\n",
      "Epoch 19/100\n",
      "48000/48000 [==============================] - 5s - loss: 0.2259 - acc: 0.9344 - val_loss: 0.2060 - val_acc: 0.9377\n",
      "Epoch 20/100\n",
      "48000/48000 [==============================] - 5s - loss: 0.2203 - acc: 0.9360 - val_loss: 0.2010 - val_acc: 0.9398\n",
      "Epoch 21/100\n",
      "48000/48000 [==============================] - 5s - loss: 0.2167 - acc: 0.9369 - val_loss: 0.1998 - val_acc: 0.9407\n",
      "Epoch 22/100\n",
      "48000/48000 [==============================] - 5s - loss: 0.2091 - acc: 0.9386 - val_loss: 0.1951 - val_acc: 0.9424\n",
      "Epoch 23/100\n",
      "48000/48000 [==============================] - 5s - loss: 0.2076 - acc: 0.9395 - val_loss: 0.1938 - val_acc: 0.9428\n",
      "Epoch 24/100\n",
      "48000/48000 [==============================] - 5s - loss: 0.2016 - acc: 0.9412 - val_loss: 0.1931 - val_acc: 0.9432\n",
      "Epoch 25/100\n",
      "48000/48000 [==============================] - 5s - loss: 0.2005 - acc: 0.9412 - val_loss: 0.1889 - val_acc: 0.9443\n",
      "Epoch 26/100\n",
      "48000/48000 [==============================] - 5s - loss: 0.1970 - acc: 0.9425 - val_loss: 0.1845 - val_acc: 0.9463\n",
      "Epoch 27/100\n",
      "48000/48000 [==============================] - 5s - loss: 0.1923 - acc: 0.9446 - val_loss: 0.1803 - val_acc: 0.9475\n",
      "Epoch 28/100\n",
      "48000/48000 [==============================] - 5s - loss: 0.1849 - acc: 0.9457 - val_loss: 0.1832 - val_acc: 0.9464\n",
      "Epoch 29/100\n",
      "48000/48000 [==============================] - 5s - loss: 0.1842 - acc: 0.9468 - val_loss: 0.1785 - val_acc: 0.9475\n",
      "Epoch 30/100\n",
      "48000/48000 [==============================] - 6s - loss: 0.1822 - acc: 0.9467 - val_loss: 0.1776 - val_acc: 0.9471\n",
      "Epoch 31/100\n",
      "48000/48000 [==============================] - 5s - loss: 0.1808 - acc: 0.9475 - val_loss: 0.1734 - val_acc: 0.9492\n",
      "Epoch 32/100\n",
      "48000/48000 [==============================] - 5s - loss: 0.1767 - acc: 0.9480 - val_loss: 0.1731 - val_acc: 0.9483\n",
      "Epoch 33/100\n",
      "48000/48000 [==============================] - 5s - loss: 0.1711 - acc: 0.9506 - val_loss: 0.1715 - val_acc: 0.9497\n",
      "Epoch 34/100\n",
      "48000/48000 [==============================] - 6s - loss: 0.1685 - acc: 0.9516 - val_loss: 0.1686 - val_acc: 0.9506\n",
      "Epoch 35/100\n",
      "48000/48000 [==============================] - 6s - loss: 0.1682 - acc: 0.9507 - val_loss: 0.1693 - val_acc: 0.9507\n",
      "Epoch 36/100\n",
      "48000/48000 [==============================] - 5s - loss: 0.1643 - acc: 0.9520 - val_loss: 0.1676 - val_acc: 0.9508\n",
      "Epoch 37/100\n",
      "48000/48000 [==============================] - 5s - loss: 0.1630 - acc: 0.9533 - val_loss: 0.1634 - val_acc: 0.9521\n",
      "Epoch 38/100\n",
      "48000/48000 [==============================] - 5s - loss: 0.1604 - acc: 0.9534 - val_loss: 0.1647 - val_acc: 0.9511\n",
      "Epoch 39/100\n",
      "48000/48000 [==============================] - 5s - loss: 0.1564 - acc: 0.9554 - val_loss: 0.1624 - val_acc: 0.9522\n",
      "Epoch 40/100\n",
      "48000/48000 [==============================] - 5s - loss: 0.1549 - acc: 0.9548 - val_loss: 0.1606 - val_acc: 0.9528\n",
      "Epoch 41/100\n",
      "48000/48000 [==============================] - 6s - loss: 0.1537 - acc: 0.9551 - val_loss: 0.1597 - val_acc: 0.9533\n",
      "Epoch 42/100\n",
      "48000/48000 [==============================] - 5s - loss: 0.1511 - acc: 0.9561 - val_loss: 0.1573 - val_acc: 0.9547\n",
      "Epoch 43/100\n",
      "48000/48000 [==============================] - 6s - loss: 0.1490 - acc: 0.9567 - val_loss: 0.1573 - val_acc: 0.9537\n",
      "Epoch 44/100\n",
      "48000/48000 [==============================] - 5s - loss: 0.1456 - acc: 0.9586 - val_loss: 0.1599 - val_acc: 0.9538\n",
      "Epoch 45/100\n",
      "48000/48000 [==============================] - 6s - loss: 0.1438 - acc: 0.9583 - val_loss: 0.1534 - val_acc: 0.9545\n",
      "Epoch 46/100\n",
      "48000/48000 [==============================] - 6s - loss: 0.1416 - acc: 0.9582 - val_loss: 0.1515 - val_acc: 0.9557\n",
      "Epoch 47/100\n",
      "48000/48000 [==============================] - 6s - loss: 0.1392 - acc: 0.9597 - val_loss: 0.1520 - val_acc: 0.9560\n",
      "Epoch 48/100\n",
      "48000/48000 [==============================] - 5s - loss: 0.1374 - acc: 0.9606 - val_loss: 0.1498 - val_acc: 0.9571\n",
      "Epoch 49/100\n",
      "48000/48000 [==============================] - 6s - loss: 0.1376 - acc: 0.9606 - val_loss: 0.1499 - val_acc: 0.9563\n",
      "Epoch 50/100\n",
      "48000/48000 [==============================] - 6s - loss: 0.1343 - acc: 0.9615 - val_loss: 0.1489 - val_acc: 0.9562\n",
      "Epoch 51/100\n",
      "48000/48000 [==============================] - 5s - loss: 0.1335 - acc: 0.9616 - val_loss: 0.1511 - val_acc: 0.9561\n",
      "Epoch 52/100\n",
      "48000/48000 [==============================] - 5s - loss: 0.1294 - acc: 0.9629 - val_loss: 0.1470 - val_acc: 0.9571\n",
      "Epoch 53/100\n",
      "48000/48000 [==============================] - 5s - loss: 0.1297 - acc: 0.9633 - val_loss: 0.1483 - val_acc: 0.9570\n",
      "Epoch 54/100\n",
      "48000/48000 [==============================] - 5s - loss: 0.1277 - acc: 0.9630 - val_loss: 0.1428 - val_acc: 0.9575\n",
      "Epoch 55/100\n",
      "48000/48000 [==============================] - 5s - loss: 0.1261 - acc: 0.9640 - val_loss: 0.1428 - val_acc: 0.9587\n",
      "Epoch 56/100\n",
      "48000/48000 [==============================] - 5s - loss: 0.1250 - acc: 0.9649 - val_loss: 0.1410 - val_acc: 0.9590\n",
      "Epoch 57/100\n",
      "48000/48000 [==============================] - 5s - loss: 0.1230 - acc: 0.9651 - val_loss: 0.1432 - val_acc: 0.9583\n",
      "Epoch 58/100\n",
      "48000/48000 [==============================] - 5s - loss: 0.1214 - acc: 0.9645 - val_loss: 0.1403 - val_acc: 0.9590\n",
      "Epoch 59/100\n",
      "48000/48000 [==============================] - 5s - loss: 0.1180 - acc: 0.9670 - val_loss: 0.1398 - val_acc: 0.9593\n",
      "Epoch 60/100\n",
      "48000/48000 [==============================] - 5s - loss: 0.1183 - acc: 0.9659 - val_loss: 0.1402 - val_acc: 0.9583\n",
      "Epoch 61/100\n",
      "48000/48000 [==============================] - 5s - loss: 0.1185 - acc: 0.9661 - val_loss: 0.1389 - val_acc: 0.9595\n",
      "Epoch 62/100\n",
      "48000/48000 [==============================] - 5s - loss: 0.1144 - acc: 0.9671 - val_loss: 0.1422 - val_acc: 0.9586\n",
      "Epoch 63/100\n",
      "48000/48000 [==============================] - 5s - loss: 0.1135 - acc: 0.9675 - val_loss: 0.1356 - val_acc: 0.9603\n",
      "Epoch 64/100\n"
     ]
    },
    {
     "name": "stdout",
     "output_type": "stream",
     "text": [
      "48000/48000 [==============================] - 5s - loss: 0.1118 - acc: 0.9675 - val_loss: 0.1385 - val_acc: 0.9603\n",
      "Epoch 65/100\n",
      "48000/48000 [==============================] - 5s - loss: 0.1100 - acc: 0.9689 - val_loss: 0.1323 - val_acc: 0.9603\n",
      "Epoch 66/100\n",
      "48000/48000 [==============================] - 5s - loss: 0.1097 - acc: 0.9682 - val_loss: 0.1341 - val_acc: 0.9603\n",
      "Epoch 67/100\n",
      "48000/48000 [==============================] - 5s - loss: 0.1086 - acc: 0.9685 - val_loss: 0.1342 - val_acc: 0.9613\n",
      "Epoch 68/100\n",
      "48000/48000 [==============================] - 5s - loss: 0.1070 - acc: 0.9690 - val_loss: 0.1344 - val_acc: 0.9607\n",
      "Epoch 69/100\n",
      "48000/48000 [==============================] - 5s - loss: 0.1056 - acc: 0.9690 - val_loss: 0.1321 - val_acc: 0.9613\n",
      "Epoch 70/100\n",
      "48000/48000 [==============================] - 5s - loss: 0.1041 - acc: 0.9702 - val_loss: 0.1355 - val_acc: 0.9604\n",
      "Epoch 71/100\n",
      "48000/48000 [==============================] - 5s - loss: 0.1027 - acc: 0.9711 - val_loss: 0.1332 - val_acc: 0.9609\n",
      "Epoch 72/100\n",
      "48000/48000 [==============================] - 5s - loss: 0.1037 - acc: 0.9697 - val_loss: 0.1334 - val_acc: 0.9602\n",
      "Epoch 73/100\n",
      "48000/48000 [==============================] - 5s - loss: 0.1012 - acc: 0.9713 - val_loss: 0.1276 - val_acc: 0.9637\n",
      "Epoch 74/100\n",
      "48000/48000 [==============================] - 5s - loss: 0.0988 - acc: 0.9728 - val_loss: 0.1288 - val_acc: 0.9636\n",
      "Epoch 75/100\n",
      "48000/48000 [==============================] - 5s - loss: 0.0982 - acc: 0.9722 - val_loss: 0.1287 - val_acc: 0.9619\n",
      "Epoch 76/100\n",
      "48000/48000 [==============================] - 5s - loss: 0.0974 - acc: 0.9725 - val_loss: 0.1282 - val_acc: 0.9631\n",
      "Epoch 77/100\n",
      "48000/48000 [==============================] - 5s - loss: 0.0959 - acc: 0.9727 - val_loss: 0.1309 - val_acc: 0.9617\n",
      "Epoch 78/100\n",
      "48000/48000 [==============================] - 5s - loss: 0.0963 - acc: 0.9725 - val_loss: 0.1283 - val_acc: 0.9628\n",
      "Epoch 79/100\n",
      "48000/48000 [==============================] - 5s - loss: 0.0945 - acc: 0.9723 - val_loss: 0.1288 - val_acc: 0.9627\n",
      "Epoch 80/100\n",
      "48000/48000 [==============================] - 5s - loss: 0.0914 - acc: 0.9742 - val_loss: 0.1293 - val_acc: 0.9630\n",
      "Epoch 81/100\n",
      "48000/48000 [==============================] - 5s - loss: 0.0907 - acc: 0.9736 - val_loss: 0.1275 - val_acc: 0.9635\n",
      "Epoch 82/100\n",
      "48000/48000 [==============================] - 5s - loss: 0.0905 - acc: 0.9746 - val_loss: 0.1274 - val_acc: 0.9627\n",
      "Epoch 83/100\n",
      "48000/48000 [==============================] - 5s - loss: 0.0888 - acc: 0.9746 - val_loss: 0.1275 - val_acc: 0.9630\n",
      "Epoch 84/100\n",
      "48000/48000 [==============================] - 5s - loss: 0.0878 - acc: 0.9748 - val_loss: 0.1226 - val_acc: 0.9635\n",
      "Epoch 85/100\n",
      "48000/48000 [==============================] - 5s - loss: 0.0892 - acc: 0.9742 - val_loss: 0.1228 - val_acc: 0.9643\n",
      "Epoch 86/100\n",
      "48000/48000 [==============================] - 5s - loss: 0.0873 - acc: 0.9747 - val_loss: 0.1241 - val_acc: 0.9638\n",
      "Epoch 87/100\n",
      "48000/48000 [==============================] - 5s - loss: 0.0868 - acc: 0.9757 - val_loss: 0.1239 - val_acc: 0.9631\n",
      "Epoch 88/100\n",
      "48000/48000 [==============================] - 5s - loss: 0.0851 - acc: 0.9764 - val_loss: 0.1241 - val_acc: 0.9643\n",
      "Epoch 89/100\n",
      "48000/48000 [==============================] - 5s - loss: 0.0831 - acc: 0.9767 - val_loss: 0.1255 - val_acc: 0.9642\n",
      "Epoch 90/100\n",
      "48000/48000 [==============================] - 6s - loss: 0.0839 - acc: 0.9766 - val_loss: 0.1219 - val_acc: 0.9648\n",
      "Epoch 91/100\n",
      "48000/48000 [==============================] - 5s - loss: 0.0822 - acc: 0.9761 - val_loss: 0.1214 - val_acc: 0.9645\n",
      "Epoch 92/100\n",
      "48000/48000 [==============================] - 5s - loss: 0.0799 - acc: 0.9770 - val_loss: 0.1202 - val_acc: 0.9653\n",
      "Epoch 93/100\n",
      "48000/48000 [==============================] - 5s - loss: 0.0800 - acc: 0.9773 - val_loss: 0.1221 - val_acc: 0.9647\n",
      "Epoch 94/100\n",
      "48000/48000 [==============================] - 5s - loss: 0.0807 - acc: 0.9772 - val_loss: 0.1220 - val_acc: 0.9651\n",
      "Epoch 95/100\n",
      "48000/48000 [==============================] - 5s - loss: 0.0797 - acc: 0.9773 - val_loss: 0.1207 - val_acc: 0.9645\n",
      "Epoch 96/100\n",
      "48000/48000 [==============================] - 5s - loss: 0.0793 - acc: 0.9772 - val_loss: 0.1203 - val_acc: 0.9655\n",
      "Epoch 97/100\n",
      "48000/48000 [==============================] - 5s - loss: 0.0763 - acc: 0.9784 - val_loss: 0.1213 - val_acc: 0.9657\n",
      "Epoch 98/100\n",
      "48000/48000 [==============================] - 5s - loss: 0.0763 - acc: 0.9784 - val_loss: 0.1197 - val_acc: 0.9652\n",
      "Epoch 99/100\n",
      "48000/48000 [==============================] - 5s - loss: 0.0754 - acc: 0.9787 - val_loss: 0.1185 - val_acc: 0.9654\n",
      "Epoch 100/100\n",
      "48000/48000 [==============================] - 5s - loss: 0.0757 - acc: 0.9781 - val_loss: 0.1206 - val_acc: 0.9648\n"
     ]
    }
   ],
   "source": [
    "from keras.models import Model\n",
    "from keras.layers import Input, Dense, merge\n",
    "from keras.layers.merge import Add\n",
    "\n",
    "\n",
    "i = Input(shape=(28, 28, ))\n",
    "a = Flatten()(i)\n",
    "b = BatchNormalization()(a)\n",
    "c = Dense(100, activation='sigmoid')(b)\n",
    "d = Dense(100, activation='sigmoid')(c)\n",
    "e = Dense(100, activation='sigmoid')(d)\n",
    "f = Add()([c, e])\n",
    "g = Dense(10, activation=\"softmax\")(f)\n",
    "\n",
    "model3 = Model(inputs=i, outputs=g)\n",
    "\n",
    "model3.compile('sgd', 'categorical_crossentropy', ['accuracy'])\n",
    "\n",
    "#X_train.shape\n",
    "#y_train.shape\n",
    "history3 = model3.fit(X_train, y_train, epochs=100, validation_split=0.2)"
   ]
  },
  {
   "cell_type": "code",
   "execution_count": 119,
   "metadata": {},
   "outputs": [
    {
     "data": {
      "image/png": "[encoded data removed]",
      "text/plain": [
       "<matplotlib.figure.Figure at 0x26be6a77f60>"
      ]
     },
     "metadata": {},
     "output_type": "display_data"
    }
   ],
   "source": [
    "# summarize history for loss\n",
    "plt.plot(history3.history['loss'])\n",
    "plt.plot(history3.history['val_loss'])\n",
    "plt.title('model loss')\n",
    "plt.ylabel('loss')\n",
    "plt.xlabel('epoch')\n",
    "plt.legend(['train', 'validation'], loc='upper left')\n",
    "plt.show()"
   ]
  },
  {
   "cell_type": "code",
   "execution_count": 120,
   "metadata": {},
   "outputs": [
    {
     "name": "stdout",
     "output_type": "stream",
     "text": [
      "The prediction accuracy of the model is: 0.9666\n"
     ]
    }
   ],
   "source": [
    "prediction = model3.predict(X_test)\n",
    "y_predict = np.argmax(prediction, axis=1)\n",
    "\n",
    "print(\"The prediction accuracy of the model is:\", np.mean(y_test == y_predict))"
   ]
  },
  {
   "cell_type": "markdown",
   "metadata": {},
   "source": [
    "### Model 4: MLP with ReLU with skip connections"
   ]
  },
  {
   "cell_type": "code",
   "execution_count": 122,
   "metadata": {
    "scrolled": true
   },
   "outputs": [
    {
     "name": "stdout",
     "output_type": "stream",
     "text": [
      "Train on 48000 samples, validate on 12000 samples\n",
      "Epoch 1/13\n",
      "48000/48000 [==============================] - 6s - loss: 0.4525 - acc: 0.8672 - val_loss: 0.2783 - val_acc: 0.9272\n",
      "Epoch 2/13\n",
      "48000/48000 [==============================] - 5s - loss: 0.2345 - acc: 0.9306 - val_loss: 0.2385 - val_acc: 0.9403\n",
      "Epoch 3/13\n",
      "48000/48000 [==============================] - 5s - loss: 0.1868 - acc: 0.9447 - val_loss: 0.2030 - val_acc: 0.9485\n",
      "Epoch 4/13\n",
      "48000/48000 [==============================] - 5s - loss: 0.1591 - acc: 0.9522 - val_loss: 0.1941 - val_acc: 0.9504\n",
      "Epoch 5/13\n",
      "48000/48000 [==============================] - 5s - loss: 0.1368 - acc: 0.9590 - val_loss: 0.2010 - val_acc: 0.9520\n",
      "Epoch 6/13\n",
      "48000/48000 [==============================] - 5s - loss: 0.1223 - acc: 0.9630 - val_loss: 0.1751 - val_acc: 0.9563\n",
      "Epoch 7/13\n",
      "48000/48000 [==============================] - 5s - loss: 0.1099 - acc: 0.9662 - val_loss: 0.1708 - val_acc: 0.9591\n",
      "Epoch 8/13\n",
      "48000/48000 [==============================] - 5s - loss: 0.0985 - acc: 0.9696 - val_loss: 0.1729 - val_acc: 0.9587\n",
      "Epoch 9/13\n",
      "48000/48000 [==============================] - 5s - loss: 0.0888 - acc: 0.9733 - val_loss: 0.1668 - val_acc: 0.9607\n",
      "Epoch 10/13\n",
      "48000/48000 [==============================] - 5s - loss: 0.0812 - acc: 0.9747 - val_loss: 0.1532 - val_acc: 0.9622\n",
      "Epoch 11/13\n",
      "48000/48000 [==============================] - 5s - loss: 0.0754 - acc: 0.9764 - val_loss: 0.1536 - val_acc: 0.9625\n",
      "Epoch 12/13\n",
      "48000/48000 [==============================] - 5s - loss: 0.0687 - acc: 0.9789 - val_loss: 0.1594 - val_acc: 0.9629\n",
      "Epoch 13/13\n",
      "48000/48000 [==============================] - 5s - loss: 0.0635 - acc: 0.9799 - val_loss: 0.1674 - val_acc: 0.9635\n"
     ]
    }
   ],
   "source": [
    "i = Input(shape=(28, 28, ))\n",
    "a = Flatten()(i)\n",
    "b = BatchNormalization()(a)\n",
    "c = Dense(100, activation='relu')(b)\n",
    "d = Dense(100, activation='relu')(c)\n",
    "e = Dense(100, activation='relu')(d)\n",
    "f = Add()([c, e])\n",
    "g = Dense(10, activation=\"softmax\")(f)\n",
    "\n",
    "model4 = Model(inputs=i, outputs=g)\n",
    "\n",
    "model4.compile('sgd', 'categorical_crossentropy', ['accuracy'])\n",
    "\n",
    "# 13 epochs is the best, after the model get overfitted\n",
    "history4 = model4.fit(X_train, y_train, epochs=13, validation_split=0.2)"
   ]
  },
  {
   "cell_type": "code",
   "execution_count": 123,
   "metadata": {},
   "outputs": [
    {
     "data": {
      "image/png": "[encoded data removed]",
      "text/plain": [
       "<matplotlib.figure.Figure at 0x26be5bcf1d0>"
      ]
     },
     "metadata": {},
     "output_type": "display_data"
    }
   ],
   "source": [
    "# summarize history for loss\n",
    "plt.plot(history4.history['loss'])\n",
    "plt.plot(history4.history['val_loss'])\n",
    "plt.title('model loss')\n",
    "plt.ylabel('loss')\n",
    "plt.xlabel('epoch')\n",
    "plt.legend(['train', 'validation'], loc='upper left')\n",
    "plt.show()"
   ]
  },
  {
   "cell_type": "code",
   "execution_count": 124,
   "metadata": {},
   "outputs": [
    {
     "name": "stdout",
     "output_type": "stream",
     "text": [
      "The prediction accuracy of the model is: 0.9645\n"
     ]
    }
   ],
   "source": [
    "prediction = model4.predict(X_test)\n",
    "y_predict = np.argmax(prediction, axis=1)\n",
    "\n",
    "print(\"The prediction accuracy of the model is:\", np.mean(y_test == y_predict))"
   ]
  },
  {
   "cell_type": "code",
   "execution_count": null,
   "metadata": {
    "collapsed": true
   },
   "outputs": [],
   "source": []
  }
 ],
 "metadata": {
  "kernelspec": {
   "display_name": "Python 3",
   "language": "python",
   "name": "python3"
  },
  "language_info": {
   "codemirror_mode": {
    "name": "ipython",
    "version": 3
   },
   "file_extension": ".py",
   "mimetype": "text/x-python",
   "name": "python",
   "nbconvert_exporter": "python",
   "pygments_lexer": "ipython3",
   "version": "3.5.2"
  },
  "widgets": {
   "state": {},
   "version": "1.1.2"
  }
 },
 "nbformat": 4,
 "nbformat_minor": 2
}
